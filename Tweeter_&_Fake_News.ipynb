{
  "nbformat": 4,
  "nbformat_minor": 0,
  "metadata": {
    "colab": {
      "name": "Tweeter & Fake News",
      "provenance": [],
      "authorship_tag": "ABX9TyO8ifUUper3XA3O0xBAGKUW",
      "include_colab_link": true
    },
    "kernelspec": {
      "name": "python3",
      "display_name": "Python 3"
    },
    "language_info": {
      "name": "python"
    }
  },
  "cells": [
    {
      "cell_type": "markdown",
      "metadata": {
        "id": "view-in-github",
        "colab_type": "text"
      },
      "source": [
        "<a href=\"https://colab.research.google.com/github/planchon/tweeter_fakenews/blob/main/Tweeter_%26_Fake_News.ipynb\" target=\"_parent\"><img src=\"https://colab.research.google.com/assets/colab-badge.svg\" alt=\"Open In Colab\"/></a>"
      ]
    },
    {
      "cell_type": "markdown",
      "metadata": {
        "id": "WgIMZx7EsiMn"
      },
      "source": [
        "# Tweeter & Fake news\n",
        "Notebook jupyter du projet tweeter et fake news par Arnaud Valette & Paul Planchon"
      ]
    },
    {
      "cell_type": "code",
      "metadata": {
        "id": "TQ2HXk2oshYb"
      },
      "source": [
        "import tweepy\n",
        "import pandas as pd\n",
        "import numpy as np\n",
        "import matplotlib.pyplot as plt"
      ],
      "execution_count": null,
      "outputs": []
    },
    {
      "cell_type": "code",
      "metadata": {
        "id": "VzHoBKnwvu4Y",
        "colab": {
          "base_uri": "https://localhost:8080/"
        },
        "outputId": "6887d35c-82cd-4a31-9c14-b02bf06f35ea"
      },
      "source": [
        "print(\"commit test\")\n",
        "print(\"commit test 2\")\n",
        "print('commit 3')"
      ],
      "execution_count": 9,
      "outputs": [
        {
          "output_type": "stream",
          "name": "stdout",
          "text": [
            "commit test\n",
            "commit test 2\n",
            "commit 3\n"
          ]
        }
      ]
    }
  ]
}