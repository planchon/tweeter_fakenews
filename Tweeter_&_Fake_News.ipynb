{
 "cells": [
  {
   "cell_type": "markdown",
   "metadata": {
    "colab_type": "text",
    "id": "view-in-github"
   },
   "source": [
    "<a href=\"https://colab.research.google.com/github/planchon/tweeter_fakenews/blob/main/Tweeter_%26_Fake_News.ipynb\" target=\"_parent\"><img src=\"https://colab.research.google.com/assets/colab-badge.svg\" alt=\"Open In Colab\"/></a>"
   ]
  },
  {
   "cell_type": "markdown",
   "metadata": {
    "id": "WgIMZx7EsiMn"
   },
   "source": [
    "# Tweeter & Fake news\n",
    "Notebook jupyter du projet tweeter et fake news par Arnaud Valette & Paul Planchon\n",
    "\n",
    "run the first cell once to be sure all the librairies are installed"
   ]
  },
  {
   "cell_type": "code",
   "execution_count": 7,
   "metadata": {
    "collapsed": true,
    "jupyter": {
     "outputs_hidden": true
    },
    "tags": []
   },
   "outputs": [
    {
     "name": "stdout",
     "output_type": "stream",
     "text": [
      "Requirement already satisfied: tweepy in /home/paul/.local/lib/python3.9/site-packages (4.1.0)\n",
      "Requirement already satisfied: pandas in /home/paul/.local/lib/python3.9/site-packages (1.3.3)\n",
      "Requirement already satisfied: numpy in /home/paul/.local/lib/python3.9/site-packages (1.21.2)\n",
      "Requirement already satisfied: matplotlib in /home/paul/.local/lib/python3.9/site-packages (3.4.3)\n",
      "Collecting python-dotenv\n",
      "  Downloading python_dotenv-0.19.1-py2.py3-none-any.whl (17 kB)\n",
      "Requirement already satisfied: python-dateutil>=2.7 in /usr/lib/python3/dist-packages (from matplotlib) (2.8.1)\n",
      "Requirement already satisfied: kiwisolver>=1.0.1 in /home/paul/.local/lib/python3.9/site-packages (from matplotlib) (1.3.2)\n",
      "Requirement already satisfied: pyparsing>=2.2.1 in /home/paul/.local/lib/python3.9/site-packages (from matplotlib) (2.4.7)\n",
      "Requirement already satisfied: pillow>=6.2.0 in /usr/lib/python3/dist-packages (from matplotlib) (8.1.2)\n",
      "Requirement already satisfied: cycler>=0.10 in /home/paul/.local/lib/python3.9/site-packages (from matplotlib) (0.10.0)\n",
      "Requirement already satisfied: six in /usr/lib/python3/dist-packages (from cycler>=0.10->matplotlib) (1.16.0)\n",
      "Requirement already satisfied: pytz>=2017.3 in /usr/lib/python3/dist-packages (from pandas) (2021.1)\n",
      "Requirement already satisfied: requests-oauthlib<2,>=1.0.0 in /home/paul/.local/lib/python3.9/site-packages (from tweepy) (1.3.0)\n",
      "Requirement already satisfied: requests<3,>=2.11.1 in /usr/lib/python3/dist-packages (from tweepy) (2.25.1)\n",
      "Requirement already satisfied: oauthlib>=3.0.0 in /usr/lib/python3/dist-packages (from requests-oauthlib<2,>=1.0.0->tweepy) (3.1.0)\n",
      "Installing collected packages: python-dotenv\n",
      "Successfully installed python-dotenv-0.19.1\n"
     ]
    }
   ],
   "source": [
    "!pip3 install tweepy pandas numpy matplotlib python-dotenv"
   ]
  },
  {
   "cell_type": "code",
   "execution_count": 9,
   "metadata": {
    "id": "TQ2HXk2oshYb"
   },
   "outputs": [],
   "source": [
    "import tweepy\n",
    "import pandas as pd\n",
    "import numpy as np\n",
    "import matplotlib.pyplot as plt\n",
    "from dotenv import dotenv_values"
   ]
  },
  {
   "cell_type": "markdown",
   "metadata": {},
   "source": [
    "### env vars\n",
    "in a folder `../creds` put an .env file with\n",
    "```\n",
    "API_KEY=\"\"\n",
    "API_SECRET=\"\"\n",
    "API_TOKEN=\"\"\n",
    "```\n",
    "which are the creds from twitter dev portal [twitter portal](https://developer.twitter.com/en/portal/projects/)"
   ]
  },
  {
   "cell_type": "code",
   "execution_count": null,
   "metadata": {},
   "outputs": [],
   "source": [
    "env_var = dotenv_values(\"../creds/.env\")\n",
    "API_KEY    = env_var[\"API_KEY\"]\n",
    "API_SECRET = env_var[\"API_SECRET\"]\n",
    "API_TOKEN  = env_var[\"API_TOKEN\"]"
   ]
  },
  {
   "cell_type": "code",
   "execution_count": 18,
   "metadata": {},
   "outputs": [],
   "source": [
    "auth = tweepy.AppAuthHandler(API_KEY, API_SECRET)\n",
    "api = tweepy.API(auth)"
   ]
  },
  {
   "cell_type": "code",
   "execution_count": 21,
   "metadata": {},
   "outputs": [
    {
     "name": "stdout",
     "output_type": "stream",
     "text": [
      "RT @DeepMind: A unified way to discover and manipulate options: how the successor representation can be seen as a natural substrate for tem…\n",
      "RT @AI_Narratives: 'Race and AI: The Diversity Dilemma' \n",
      "\n",
      "New paper from our researchers @stephenjcave and @DrDihal looks at Whiteness in p…\n",
      "RT @brodriguezsci: For those who think AlphaFold2 is an \"easy method\".. it's the most complex system @DeepMind has ever developed!! 32 comp…\n",
      "RT @AI_Narratives: 'Race and AI: The Diversity Dilemma' \n",
      "\n",
      "New paper from our researchers @stephenjcave and @DrDihal looks at Whiteness in p…\n",
      "RT @asifrazzaq1988: DeepMind Introduces ‘RGB-Stacking’: A Reinforcement Learning Based Approach For Tackling Robotic Stacking of Diverse Sh…\n",
      "DeepMind Introduces ‘RGB-Stacking’: A Reinforcement Learning Based Approach For Tackling Robotic Stacking of Divers… https://t.co/CBufuWiqOu\n",
      "RT @asifrazzaq1988: DeepMind Introduces ‘RGB-Stacking’: A Reinforcement Learning Based Approach For Tackling Robotic Stacking of Diverse Sh…\n",
      "RT @asifrazzaq1988: DeepMind Introduces ‘RGB-Stacking’: A Reinforcement Learning Based Approach For Tackling Robotic Stacking of Diverse Sh…\n",
      "RT @asifrazzaq1988: DeepMind Introduces ‘RGB-Stacking’: A Reinforcement Learning Based Approach For Tackling Robotic Stacking of Diverse Sh…\n",
      "DeepMind Introduces ‘RGB-Stacking’: A Reinforcement Learning Based Approach For Tackling Robotic Stacking of Divers… https://t.co/XsIwOshCbn\n"
     ]
    }
   ],
   "source": [
    "for tweet in tweepy.Cursor(api.search_tweets, q='deepmind').items(10):\n",
    "    print(tweet.text)"
   ]
  }
 ],
 "metadata": {
  "colab": {
   "authorship_tag": "ABX9TyO8ifUUper3XA3O0xBAGKUW",
   "include_colab_link": true,
   "name": "Tweeter & Fake News",
   "provenance": []
  },
  "kernelspec": {
   "display_name": "Python 3 (ipykernel)",
   "language": "python",
   "name": "python3"
  },
  "language_info": {
   "codemirror_mode": {
    "name": "ipython",
    "version": 3
   },
   "file_extension": ".py",
   "mimetype": "text/x-python",
   "name": "python",
   "nbconvert_exporter": "python",
   "pygments_lexer": "ipython3",
   "version": "3.9.7"
  }
 },
 "nbformat": 4,
 "nbformat_minor": 4
}
