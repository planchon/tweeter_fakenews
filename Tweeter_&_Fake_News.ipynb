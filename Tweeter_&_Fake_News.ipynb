{
 "cells": [
  {
   "cell_type": "markdown",
   "metadata": {
    "colab_type": "text",
    "id": "view-in-github"
   },
   "source": [
    "<a href=\"https://colab.research.google.com/github/planchon/tweeter_fakenews/blob/main/Tweeter_%26_Fake_News.ipynb\" target=\"_parent\"><img src=\"https://colab.research.google.com/assets/colab-badge.svg\" alt=\"Open In Colab\"/></a>"
   ]
  },
  {
   "cell_type": "markdown",
   "metadata": {
    "id": "WgIMZx7EsiMn"
   },
   "source": [
    "# Tweeter & Fake news\n",
    "Notebook jupyter du projet tweeter et fake news par Arnaud Valette & Paul Planchon\n",
    "\n",
    "run the first cell once to be sure all the librairies are installed"
   ]
  },
  {
   "cell_type": "code",
   "execution_count": null,
   "metadata": {
    "tags": []
   },
   "outputs": [],
   "source": [
    "!pip3 install tweepy pandas numpy matplotlib python-dotenv"
   ]
  },
  {
   "cell_type": "code",
   "execution_count": null,
   "metadata": {
    "id": "TQ2HXk2oshYb"
   },
   "outputs": [],
   "source": [
    "import tweepy\n",
    "import pickle\n",
    "import warnings\n",
    "warnings.simplefilter(action='ignore', category=FutureWarning)\n",
    "\n",
    "import pandas as pd\n",
    "import numpy as np\n",
    "import matplotlib.pyplot as plt\n",
    "from dotenv import dotenv_values\n",
    "import requests"
   ]
  },
  {
   "cell_type": "markdown",
   "metadata": {},
   "source": [
    "### env vars\n",
    "in a folder `../creds` put an .env file with\n",
    "```\n",
    "API_KEY=\"\"\n",
    "API_SECRET=\"\"\n",
    "API_TOKEN=\"\"\n",
    "```\n",
    "which are the creds from twitter dev portal [twitter portal](https://developer.twitter.com/en/portal/projects/)"
   ]
  },
  {
   "cell_type": "code",
   "execution_count": null,
   "metadata": {},
   "outputs": [],
   "source": [
    "env_var = dotenv_values(\"../creds/.env\")\n",
    "API_KEY    = env_var[\"API_KEY\"]\n",
    "API_SECRET = env_var[\"API_SECRET\"]\n",
    "API_TOKEN  = env_var[\"API_TOKEN\"]"
   ]
  },
  {
   "cell_type": "code",
   "execution_count": null,
   "metadata": {},
   "outputs": [],
   "source": [
    "auth = tweepy.AppAuthHandler(API_KEY, API_SECRET)\n",
    "api = tweepy.API(auth)"
   ]
  },
  {
   "cell_type": "markdown",
   "metadata": {},
   "source": [
    "## Monde website data\n",
    "getting the JSON data from [le monde](https://www.lemonde.fr/webservice/decodex/updates) decodex updates feed"
   ]
  },
  {
   "cell_type": "code",
   "execution_count": null,
   "metadata": {},
   "outputs": [],
   "source": [
    "try:\n",
    "    decodex_site = pd.read_csv(\"./monde_site.csv\", index_col=0)\n",
    "    with open('monde_urls.pickle', 'rb') as handle:\n",
    "        site_index_to_url = pickle.load(handle)\n",
    "except Exception:\n",
    "    decodex_site = pd.DataFrame(requests.get(\"https://www.lemonde.fr/webservice/decodex/updates\").json()[\"sites\"]).T.drop(3, 1).rename(columns={0: \"categorie\", 1: \"description\", 2: \"site\"})\n",
    "    decodex_url = requests.get(\"https://www.lemonde.fr/webservice/decodex/updates\").json()[\"urls\"] # urls of website, including sometimes twitter data\n",
    "\n",
    "    # convert the url to index dict to an index to url dict\n",
    "    site_index_to_url = {}\n",
    "    for x, y in decodex_url.items():\n",
    "        try:\n",
    "            if site_index_to_url[y]:\n",
    "                site_index_to_url[y].append(x)\n",
    "        except Exception as e:\n",
    "            site_index_to_url[y] = [x]\n",
    "\n",
    "    # we save data to disk\n",
    "    decodex_site.to_csv(\"monde_site.csv\")\n",
    "    with open('monde_urls.pickle', 'wb') as handle:\n",
    "        pickle.dump(site_index_to_url, handle, protocol=pickle.HIGHEST_PROTOCOL)"
   ]
  }
 ],
 "metadata": {
  "colab": {
   "authorship_tag": "ABX9TyO8ifUUper3XA3O0xBAGKUW",
   "include_colab_link": true,
   "name": "Tweeter & Fake News",
   "provenance": []
  },
  "kernelspec": {
   "display_name": "Python 3 (ipykernel)",
   "language": "python",
   "name": "python3"
  },
  "language_info": {
   "codemirror_mode": {
    "name": "ipython",
    "version": 3
   },
   "file_extension": ".py",
   "mimetype": "text/x-python",
   "name": "python",
   "nbconvert_exporter": "python",
   "pygments_lexer": "ipython3",
   "version": "3.9.7"
  }
 },
 "nbformat": 4,
 "nbformat_minor": 4
}
